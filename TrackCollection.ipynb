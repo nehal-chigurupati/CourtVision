{
  "cells": [
    {
      "cell_type": "code",
      "source": [
        "!pip install inference-sdk"
      ],
      "metadata": {
        "id": "JiFE5YXjDAOW"
      },
      "execution_count": null,
      "outputs": []
    },
    {
      "cell_type": "code",
      "execution_count": null,
      "metadata": {
        "colab": {
          "base_uri": "https://localhost:8080/"
        },
        "id": "_Q-jktEaN8Ww",
        "outputId": "f2ac0db1-c01f-463b-f217-cc42d26ec614"
      },
      "outputs": [
        {
          "output_type": "stream",
          "name": "stdout",
          "text": [
            "Collecting pytesseract\n",
            "  Downloading pytesseract-0.3.10-py3-none-any.whl (14 kB)\n",
            "Requirement already satisfied: packaging>=21.3 in /usr/local/lib/python3.10/dist-packages (from pytesseract) (23.2)\n",
            "Requirement already satisfied: Pillow>=8.0.0 in /usr/local/lib/python3.10/dist-packages (from pytesseract) (9.4.0)\n",
            "Installing collected packages: pytesseract\n",
            "Successfully installed pytesseract-0.3.10\n"
          ]
        }
      ],
      "source": [
        "!pip install pytesseract"
      ]
    },
    {
      "cell_type": "code",
      "source": [
        "! apt install tesseract-ocr\n",
        "! apt install libtesseract-dev"
      ],
      "metadata": {
        "id": "g4uYbK6K-4pC",
        "colab": {
          "base_uri": "https://localhost:8080/"
        },
        "outputId": "ddc405c1-4a85-423d-a827-ecf42fa51371"
      },
      "execution_count": null,
      "outputs": [
        {
          "output_type": "stream",
          "name": "stdout",
          "text": [
            "Reading package lists... Done\n",
            "Building dependency tree... Done\n",
            "Reading state information... Done\n",
            "The following additional packages will be installed:\n",
            "  tesseract-ocr-eng tesseract-ocr-osd\n",
            "The following NEW packages will be installed:\n",
            "  tesseract-ocr tesseract-ocr-eng tesseract-ocr-osd\n",
            "0 upgraded, 3 newly installed, 0 to remove and 32 not upgraded.\n",
            "Need to get 4,816 kB of archives.\n",
            "After this operation, 15.6 MB of additional disk space will be used.\n",
            "Get:1 http://archive.ubuntu.com/ubuntu jammy/universe amd64 tesseract-ocr-eng all 1:4.00~git30-7274cfa-1.1 [1,591 kB]\n",
            "Get:2 http://archive.ubuntu.com/ubuntu jammy/universe amd64 tesseract-ocr-osd all 1:4.00~git30-7274cfa-1.1 [2,990 kB]\n",
            "Get:3 http://archive.ubuntu.com/ubuntu jammy/universe amd64 tesseract-ocr amd64 4.1.1-2.1build1 [236 kB]\n",
            "Fetched 4,816 kB in 0s (25.3 MB/s)\n",
            "Selecting previously unselected package tesseract-ocr-eng.\n",
            "(Reading database ... 121749 files and directories currently installed.)\n",
            "Preparing to unpack .../tesseract-ocr-eng_1%3a4.00~git30-7274cfa-1.1_all.deb ...\n",
            "Unpacking tesseract-ocr-eng (1:4.00~git30-7274cfa-1.1) ...\n",
            "Selecting previously unselected package tesseract-ocr-osd.\n",
            "Preparing to unpack .../tesseract-ocr-osd_1%3a4.00~git30-7274cfa-1.1_all.deb ...\n",
            "Unpacking tesseract-ocr-osd (1:4.00~git30-7274cfa-1.1) ...\n",
            "Selecting previously unselected package tesseract-ocr.\n",
            "Preparing to unpack .../tesseract-ocr_4.1.1-2.1build1_amd64.deb ...\n",
            "Unpacking tesseract-ocr (4.1.1-2.1build1) ...\n",
            "Setting up tesseract-ocr-eng (1:4.00~git30-7274cfa-1.1) ...\n",
            "Setting up tesseract-ocr-osd (1:4.00~git30-7274cfa-1.1) ...\n",
            "Setting up tesseract-ocr (4.1.1-2.1build1) ...\n",
            "Processing triggers for man-db (2.10.2-1) ...\n",
            "Reading package lists... Done\n",
            "Building dependency tree... Done\n",
            "Reading state information... Done\n",
            "The following additional packages will be installed:\n",
            "  libarchive-dev libleptonica-dev\n",
            "The following NEW packages will be installed:\n",
            "  libarchive-dev libleptonica-dev libtesseract-dev\n",
            "0 upgraded, 3 newly installed, 0 to remove and 32 not upgraded.\n",
            "Need to get 3,743 kB of archives.\n",
            "After this operation, 16.0 MB of additional disk space will be used.\n",
            "Get:1 http://archive.ubuntu.com/ubuntu jammy/main amd64 libarchive-dev amd64 3.6.0-1ubuntu1 [581 kB]\n",
            "Get:2 http://archive.ubuntu.com/ubuntu jammy/universe amd64 libleptonica-dev amd64 1.82.0-3build1 [1,562 kB]\n",
            "Get:3 http://archive.ubuntu.com/ubuntu jammy/universe amd64 libtesseract-dev amd64 4.1.1-2.1build1 [1,600 kB]\n",
            "Fetched 3,743 kB in 0s (21.6 MB/s)\n",
            "Selecting previously unselected package libarchive-dev:amd64.\n",
            "(Reading database ... 121796 files and directories currently installed.)\n",
            "Preparing to unpack .../libarchive-dev_3.6.0-1ubuntu1_amd64.deb ...\n",
            "Unpacking libarchive-dev:amd64 (3.6.0-1ubuntu1) ...\n",
            "Selecting previously unselected package libleptonica-dev.\n",
            "Preparing to unpack .../libleptonica-dev_1.82.0-3build1_amd64.deb ...\n",
            "Unpacking libleptonica-dev (1.82.0-3build1) ...\n",
            "Selecting previously unselected package libtesseract-dev:amd64.\n",
            "Preparing to unpack .../libtesseract-dev_4.1.1-2.1build1_amd64.deb ...\n",
            "Unpacking libtesseract-dev:amd64 (4.1.1-2.1build1) ...\n",
            "Setting up libleptonica-dev (1.82.0-3build1) ...\n",
            "Setting up libarchive-dev:amd64 (3.6.0-1ubuntu1) ...\n",
            "Setting up libtesseract-dev:amd64 (4.1.1-2.1build1) ...\n",
            "Processing triggers for man-db (2.10.2-1) ...\n"
          ]
        }
      ]
    },
    {
      "cell_type": "code",
      "execution_count": null,
      "metadata": {
        "id": "AHwo10_gPcq1"
      },
      "outputs": [],
      "source": [
        "!cp -r /content/drive/MyDrive/CourtVision/* /content"
      ]
    },
    {
      "cell_type": "code",
      "execution_count": null,
      "metadata": {
        "id": "w_1moTGlNvmA"
      },
      "outputs": [],
      "source": [
        "!pip install ultralytics"
      ]
    },
    {
      "cell_type": "code",
      "execution_count": null,
      "metadata": {
        "id": "bJdKUFfVNezu"
      },
      "outputs": [],
      "source": [
        "import os\n",
        "import random\n",
        "import numpy as np\n",
        "import cv2\n",
        "from ultralytics import YOLO\n",
        "from tracker import Tracker\n",
        "from scipy.spatial import ConvexHull\n",
        "from sklearn.cluster import KMeans\n",
        "import json\n",
        "from tqdm import tqdm\n",
        "import gc\n",
        "from inference_sdk import InferenceHTTPClient\n",
        "import pytesseract"
      ]
    },
    {
      "cell_type": "code",
      "source": [
        "pytesseract.pytesseract.tesseract_cmd = (\n",
        "    r'/usr/bin/tesseract'\n",
        ")"
      ],
      "metadata": {
        "id": "FDWzagr09Fz9"
      },
      "execution_count": null,
      "outputs": []
    },
    {
      "cell_type": "code",
      "source": [
        "def identify_text(frame, x, y, width, height):\n",
        "  text = pytesseract.image_to_string(frame[int(y):int(y + height), int(x):int(x + width)])\n",
        "  return text"
      ],
      "metadata": {
        "id": "x3j97Yk28y-7"
      },
      "execution_count": null,
      "outputs": []
    },
    {
      "cell_type": "code",
      "execution_count": null,
      "metadata": {
        "id": "shO5lMOKNo9i"
      },
      "outputs": [],
      "source": [
        "def generate_tracking_data(filename, video_path):\n",
        "    cap = cv2.VideoCapture(video_path + filename)\n",
        "    num_frames = int(cap.get(cv2.CAP_PROP_FRAME_COUNT))\n",
        "    ret, frame = cap.read()\n",
        "\n",
        "    player_ids = {}\n",
        "    player_ids[\"HOME\"] = [None] * 5\n",
        "    player_ids[\"AWAY\"] = [None] * 5\n",
        "\n",
        "    model = YOLO(\"yolov8n.pt\")\n",
        "    CLIENT = InferenceHTTPClient(\n",
        "      api_url=\"https://detect.roboflow.com\",\n",
        "      api_key=\"b97QcNAHuMlKCs9ja7Cl\"\n",
        "    )\n",
        "\n",
        "    tracker = Tracker()\n",
        "\n",
        "    colors = [(random.randint(0, 255), random.randint(0, 255), random.randint(0, 255)) for j in range(13)]\n",
        "\n",
        "    json_out = {}\n",
        "    json_out[\"GAME_PARAMS\"] = {}\n",
        "\n",
        "    frame_num = 0\n",
        "    while ret:\n",
        "        frame_num += 1\n",
        "        print(\"Frame \" + str(frame_num) + \"/\" + str(num_frames))\n",
        "        results = model(frame)\n",
        "\n",
        "        cv2.imwrite('frame_img.jpg', frame)\n",
        "        game_params = CLIENT.infer(\"frame_img.jpg\", model_id=\"basketball-players-fy4c2/20\")\n",
        "\n",
        "        predictions = game_params[\"predictions\"]\n",
        "        prediction_text = []\n",
        "\n",
        "        for i in predictions:\n",
        "          temp = {}\n",
        "          temp[\"CLASS\"] = i[\"class\"]\n",
        "          temp[\"CONFIDENCE\"] = i[\"confidence\"]\n",
        "          temp[\"TEXT\"] = identify_text(frame, i[\"x\"], i[\"y\"], i[\"width\"], i[\"height\"])\n",
        "          temp[\"FRAME_NUM\"] = frame_num\n",
        "          prediction_text.append(temp)\n",
        "\n",
        "\n",
        "        json_out[\"GAME_PARAMS\"][\"FRAME_NUM\"] = prediction_text\n",
        "\n",
        "        for person in results:\n",
        "            detections = []\n",
        "            for r in person.boxes.data.tolist():\n",
        "                x1, y1, x2, y2, confidence, class_type = r\n",
        "                x1 = int(x1)\n",
        "                x2 = int(x2)\n",
        "                y1 = int(y1)\n",
        "                y2 = int(y2)\n",
        "\n",
        "                class_type = int(class_type)\n",
        "                detections.append([x1, y1, x2, y2, confidence])\n",
        "\n",
        "            tracker.update(frame, detections)\n",
        "\n",
        "            for track in tracker.tracks:\n",
        "\n",
        "                bbox = track.bbox\n",
        "                track_id = track.track_id\n",
        "                x1, y1, x2, y2 = bbox\n",
        "\n",
        "                #Extract jersey num\n",
        "                try:\n",
        "                  player_box_img = frame[int(y1):int(y2), int(x1):int(x2)]\n",
        "                  gray_frame = cv2.cvtColor(player_box_img, cv2.COLOR_BGR2GRAY)\n",
        "\n",
        "                  cv2.imwrite('temp_frame.png', gray_frame)\n",
        "\n",
        "                  text = pytesseract.image_to_string('temp_frame.png', lang=\"eng\", config='--psm 6')\n",
        "                except:\n",
        "                  text = None\n",
        "\n",
        "                cv2.rectangle(frame, (int(x1), int(y1)), (int(x2), int(y2)), (colors[track_id % len(colors)]))\n",
        "                cv2.putText(frame, str(track_id),(int(x1), int(y1)),0, 5e-3 * 200, (colors[track_id % len(colors)]),2)\n",
        "\n",
        "                if track_id not in json_out.keys():\n",
        "                    json_out[track_id] = {\n",
        "                        \"FRAME_NUM\": [],\n",
        "                        \"X1\": [],\n",
        "                        \"Y1\": [],\n",
        "                        \"X2\": [],\n",
        "                        \"Y2\": [],\n",
        "                        \"REC_NUM\": []\n",
        "                    }\n",
        "\n",
        "                json_out[track_id][\"FRAME_NUM\"].append(frame_num)\n",
        "                json_out[track_id][\"X1\"].append(int(x1))\n",
        "                json_out[track_id][\"Y1\"].append(int(y1))\n",
        "                json_out[track_id][\"X2\"].append(int(x2))\n",
        "                json_out[track_id][\"Y2\"].append(int(y2))\n",
        "                json_out[track_id][\"REC_NUM\"].append(text)\n",
        "\n",
        "        #cv2.imshow('frame', frame)\n",
        "        #cv2.waitKey(5)\n",
        "        ret, frame = cap.read()\n",
        "\n",
        "    cap.release()\n",
        "    cv2.destroyAllWindows()\n",
        "\n",
        "    json_out[\"META\"] = {\"NUM_FRAMES_IN_VIDEO\": num_frames}\n",
        "\n",
        "    return json_out"
      ]
    },
    {
      "cell_type": "code",
      "execution_count": null,
      "metadata": {
        "id": "d-9QusC4OwU4"
      },
      "outputs": [],
      "source": [
        "filename = \"Footage/Cavs/Offense/test1.mp4\"\n",
        "video_path = \"\"\n",
        "video_out_path = \"\"\n",
        "\n",
        "json_out = generate_tracking_data(filename, video_path)\n",
        "json_file_path = \"test_out.json\"\n",
        "\n",
        "with open(json_file_path, 'w') as json_file:\n",
        "    json.dump(json_out, json_file)"
      ]
    },
    {
      "cell_type": "code",
      "source": [
        "json_out[\"GAME_PARAMS\"]"
      ],
      "metadata": {
        "colab": {
          "base_uri": "https://localhost:8080/"
        },
        "id": "GEQTn85OEPGU",
        "outputId": "f5df1d7e-f497-40c7-fe69-230734a15fe9"
      },
      "execution_count": null,
      "outputs": [
        {
          "output_type": "execute_result",
          "data": {
            "text/plain": [
              "{'FRAME_NUM': {'time': 0.042576564000228245,\n",
              "  'image': {'width': 1280, 'height': 720},\n",
              "  'predictions': [{'x': 203.75,\n",
              "    'y': 673.75,\n",
              "    'width': 57.5,\n",
              "    'height': 35.0,\n",
              "    'confidence': 0.8838939666748047,\n",
              "    'class': 'Team Points',\n",
              "    'class_id': 3,\n",
              "    'detection_id': '95477efe-4368-4e68-9bc9-6d727208d30d'},\n",
              "   {'x': 422.5,\n",
              "    'y': 673.75,\n",
              "    'width': 67.5,\n",
              "    'height': 35.0,\n",
              "    'confidence': 0.8465325832366943,\n",
              "    'class': 'Team Points',\n",
              "    'class_id': 3,\n",
              "    'detection_id': 'bc44d2d1-c0dc-4469-b1f9-bb3011127c1b'},\n",
              "   {'x': 548.75,\n",
              "    'y': 673.75,\n",
              "    'width': 62.5,\n",
              "    'height': 30.0,\n",
              "    'confidence': 0.8417928218841553,\n",
              "    'class': 'Time Remaining',\n",
              "    'class_id': 4,\n",
              "    'detection_id': '42ec1cb5-4045-4b88-976e-9d9cfab675e0'},\n",
              "   {'x': 484.375,\n",
              "    'y': 675.0,\n",
              "    'width': 41.25,\n",
              "    'height': 27.5,\n",
              "    'confidence': 0.812049150466919,\n",
              "    'class': 'Period',\n",
              "    'class_id': 0,\n",
              "    'detection_id': '17762453-32e3-483a-a84a-aeb3099b7e7e'},\n",
              "   {'x': 611.875,\n",
              "    'y': 674.375,\n",
              "    'width': 38.75,\n",
              "    'height': 26.25,\n",
              "    'confidence': 0.7892193794250488,\n",
              "    'class': 'Team Points',\n",
              "    'class_id': 3,\n",
              "    'detection_id': '9cffc49e-ae69-4ec3-92e5-c83fa93797eb'},\n",
              "   {'x': 612.5,\n",
              "    'y': 675.0,\n",
              "    'width': 37.5,\n",
              "    'height': 25.0,\n",
              "    'confidence': 0.7562847137451172,\n",
              "    'class': 'Period',\n",
              "    'class_id': 0,\n",
              "    'detection_id': '13b5e91b-6ffe-4ff2-be99-759bef0c0554'},\n",
              "   {'x': 1259.375,\n",
              "    'y': 418.125,\n",
              "    'width': 33.75,\n",
              "    'height': 21.25,\n",
              "    'confidence': 0.4269784092903137,\n",
              "    'class': 'Period',\n",
              "    'class_id': 0,\n",
              "    'detection_id': 'aa980c0d-5eeb-4b37-bfa6-54f1c9935718'}]}}"
            ]
          },
          "metadata": {},
          "execution_count": 33
        }
      ]
    },
    {
      "cell_type": "code",
      "execution_count": null,
      "metadata": {
        "id": "WFzfRceUOtgM"
      },
      "outputs": [],
      "source": [
        "for filename in tqdm(os.listdir(\"drive/MyDrive/CourtVision/Footage/Cavs/Offense\")):\n",
        "    if filename.endswith(\".mp4\"):\n",
        "      json_out = generate_tracking_data(filename, \"drive/MyDrive/CourtVision/Footage/Cavs/Offense/\")\n",
        "\n",
        "      with open(\"drive/MyDrive/CourtVision/OUT/OUT_\" + filename + \".json\", 'w') as json_file:\n",
        "        json.dump(json_out, json_file)\n",
        "\n",
        "      del json_out\n",
        "      gc.collect()"
      ]
    },
    {
      "cell_type": "code",
      "execution_count": null,
      "metadata": {
        "id": "w7Ecl8FPN7SF",
        "colab": {
          "base_uri": "https://localhost:8080/"
        },
        "outputId": "a8800052-6fcd-431d-9f8e-86d4dc206761"
      },
      "outputs": [
        {
          "output_type": "execute_result",
          "data": {
            "text/plain": [
              "{'FRAME_NUM': {'time': 0.042576564000228245,\n",
              "  'image': {'width': 1280, 'height': 720},\n",
              "  'predictions': [{'x': 203.75,\n",
              "    'y': 673.75,\n",
              "    'width': 57.5,\n",
              "    'height': 35.0,\n",
              "    'confidence': 0.8838939666748047,\n",
              "    'class': 'Team Points',\n",
              "    'class_id': 3,\n",
              "    'detection_id': '95477efe-4368-4e68-9bc9-6d727208d30d'},\n",
              "   {'x': 422.5,\n",
              "    'y': 673.75,\n",
              "    'width': 67.5,\n",
              "    'height': 35.0,\n",
              "    'confidence': 0.8465325832366943,\n",
              "    'class': 'Team Points',\n",
              "    'class_id': 3,\n",
              "    'detection_id': 'bc44d2d1-c0dc-4469-b1f9-bb3011127c1b'},\n",
              "   {'x': 548.75,\n",
              "    'y': 673.75,\n",
              "    'width': 62.5,\n",
              "    'height': 30.0,\n",
              "    'confidence': 0.8417928218841553,\n",
              "    'class': 'Time Remaining',\n",
              "    'class_id': 4,\n",
              "    'detection_id': '42ec1cb5-4045-4b88-976e-9d9cfab675e0'},\n",
              "   {'x': 484.375,\n",
              "    'y': 675.0,\n",
              "    'width': 41.25,\n",
              "    'height': 27.5,\n",
              "    'confidence': 0.812049150466919,\n",
              "    'class': 'Period',\n",
              "    'class_id': 0,\n",
              "    'detection_id': '17762453-32e3-483a-a84a-aeb3099b7e7e'},\n",
              "   {'x': 611.875,\n",
              "    'y': 674.375,\n",
              "    'width': 38.75,\n",
              "    'height': 26.25,\n",
              "    'confidence': 0.7892193794250488,\n",
              "    'class': 'Team Points',\n",
              "    'class_id': 3,\n",
              "    'detection_id': '9cffc49e-ae69-4ec3-92e5-c83fa93797eb'},\n",
              "   {'x': 612.5,\n",
              "    'y': 675.0,\n",
              "    'width': 37.5,\n",
              "    'height': 25.0,\n",
              "    'confidence': 0.7562847137451172,\n",
              "    'class': 'Period',\n",
              "    'class_id': 0,\n",
              "    'detection_id': '13b5e91b-6ffe-4ff2-be99-759bef0c0554'},\n",
              "   {'x': 1259.375,\n",
              "    'y': 418.125,\n",
              "    'width': 33.75,\n",
              "    'height': 21.25,\n",
              "    'confidence': 0.4269784092903137,\n",
              "    'class': 'Period',\n",
              "    'class_id': 0,\n",
              "    'detection_id': 'aa980c0d-5eeb-4b37-bfa6-54f1c9935718'}]}}"
            ]
          },
          "metadata": {},
          "execution_count": 20
        }
      ],
      "source": [
        "json_out[\"GAME_PARAMS\"]"
      ]
    },
    {
      "cell_type": "code",
      "source": [],
      "metadata": {
        "id": "WwE4pc9b6gic"
      },
      "execution_count": null,
      "outputs": []
    }
  ],
  "metadata": {
    "colab": {
      "machine_shape": "hm",
      "provenance": []
    },
    "kernelspec": {
      "display_name": "Python 3",
      "name": "python3"
    },
    "language_info": {
      "name": "python"
    }
  },
  "nbformat": 4,
  "nbformat_minor": 0
}