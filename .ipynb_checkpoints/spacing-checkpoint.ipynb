{
 "cells": [
  {
   "cell_type": "code",
   "execution_count": 4,
   "id": "8f8724f9-e210-4562-859c-dba2ba833848",
   "metadata": {},
   "outputs": [],
   "source": [
    "import pandas as pd\n",
    "import numpy as np"
   ]
  },
  {
   "cell_type": "code",
   "execution_count": 5,
   "id": "01473e2e-d2b5-45ef-86e0-39bca8da4cf3",
   "metadata": {},
   "outputs": [],
   "source": [
    "lineups = pd.read_csv(\"datasets/lineups/CLE.csv\")"
   ]
  },
  {
   "cell_type": "code",
   "execution_count": 6,
   "id": "e5c8c19b-c458-40b5-8788-2b095c39b50a",
   "metadata": {},
   "outputs": [
    {
     "name": "stdout",
     "output_type": "stream",
     "text": [
      "        PLAYER_ZERO     PLAYER_ONE    PLAYER_TWO    PLAYER_THREE  \\\n",
      "0  Donovan Mitchell  Jarrett Allen     Max Strus  Darius Garland   \n",
      "1  Donovan Mitchell  Jarrett Allen     Max Strus    Caris LeVert   \n",
      "2  Donovan Mitchell      Max Strus  Caris LeVert   Georges Niang   \n",
      "\n",
      "     PLAYER_FOUR  \n",
      "0    Evan Mobley  \n",
      "1    Evan Mobley  \n",
      "2  Jarrett Allen  \n"
     ]
    }
   ],
   "source": [
    "print(lineups)"
   ]
  },
  {
   "cell_type": "code",
   "execution_count": 8,
   "id": "79dade6c-6dad-4d91-b0ea-3bd97e011d3f",
   "metadata": {},
   "outputs": [],
   "source": [
    "#Lineup 1 load data\n",
    "file = open(\"areas/lineup_one/lineup_one_clip_one_areas.txt\", \"r\")\n",
    "poss_one = file.read()\n",
    "file.close()\n",
    "\n",
    "file = open(\"areas/lineup_one/lineup_one_clip_two_areas.txt\", \"r\")\n",
    "poss_two = file.read()\n",
    "file.close()\n",
    "\n",
    "file = open(\"areas/lineup_one/lineup_one_clip_three_areas.txt\", \"r\")\n",
    "poss_three = file.read()\n",
    "file.close()\n",
    "\n",
    "file = open(\"areas/lineup_one/lineup_one_clip_four_areas.txt\", \"r\")\n",
    "poss_four = file.read()\n",
    "file.close()"
   ]
  },
  {
   "cell_type": "code",
   "execution_count": null,
   "id": "eac80eb4-b09e-4bfd-8c65-b63980d605b4",
   "metadata": {},
   "outputs": [],
   "source": [
    "#Prepare data\n",
    "poss_one = poss_one.split(\"\\n\")[1:-1]\n",
    "poss_one = [float(i) for i in poss_one]\n",
    "\n",
    "poss_two = poss_two.split(\"\\n\")[1:-1]\n",
    "poss_two = [float(i) for i in poss_two]\n",
    "\n",
    "poss_three = poss_three.split(\"\\n\")[1:-1]\n",
    "poss_three = [float(i) for i in poss_three]\n",
    "\n",
    "poss_four = poss_four.split(\"\\n\")[1:-1]\n",
    "poss_four = [float(i) for i in poss_four]"
   ]
  },
  {
   "cell_type": "code",
   "execution_count": 17,
   "id": "7079c347-eefb-4b54-bc77-2af37cef3e00",
   "metadata": {},
   "outputs": [],
   "source": [
    "poss_one = [float(i) for i in poss_one]"
   ]
  },
  {
   "cell_type": "code",
   "execution_count": 19,
   "id": "d1db5de3-c115-421d-9e39-8e64c2b17d97",
   "metadata": {},
   "outputs": [],
   "source": [
    "#Use trapezoidal area under curve for lineup 1 data\n",
    "poss_one_area = np.trapz(poss_one, dx=1)"
   ]
  },
  {
   "cell_type": "code",
   "execution_count": 20,
   "id": "b029598b-c971-45d7-a2bd-b41fc26c1364",
   "metadata": {},
   "outputs": [
    {
     "name": "stdout",
     "output_type": "stream",
     "text": [
      "457604.4229099328\n"
     ]
    }
   ],
   "source": [
    "print(poss_one_area)"
   ]
  },
  {
   "cell_type": "code",
   "execution_count": null,
   "id": "4418dcc5-d833-4de5-ba4e-c8ef9f3a4c2b",
   "metadata": {},
   "outputs": [],
   "source": []
  }
 ],
 "metadata": {
  "kernelspec": {
   "display_name": "Python 3 (ipykernel)",
   "language": "python",
   "name": "python3"
  },
  "language_info": {
   "codemirror_mode": {
    "name": "ipython",
    "version": 3
   },
   "file_extension": ".py",
   "mimetype": "text/x-python",
   "name": "python",
   "nbconvert_exporter": "python",
   "pygments_lexer": "ipython3",
   "version": "3.11.4"
  }
 },
 "nbformat": 4,
 "nbformat_minor": 5
}
