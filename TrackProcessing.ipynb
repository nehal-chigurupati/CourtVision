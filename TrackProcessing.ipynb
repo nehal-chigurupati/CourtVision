{
  "nbformat": 4,
  "nbformat_minor": 0,
  "metadata": {
    "colab": {
      "provenance": []
    },
    "kernelspec": {
      "name": "python3",
      "display_name": "Python 3"
    },
    "language_info": {
      "name": "python"
    }
  },
  "cells": [
    {
      "cell_type": "code",
      "execution_count": null,
      "metadata": {
        "id": "-T4xw1nxVAeC"
      },
      "outputs": [],
      "source": [
        "import pandas as pd\n",
        "import numpy as np\n",
        "import jsonlines\n",
        "import json\n",
        "import cv2\n",
        "import os\n",
        "import matplotlib.pyplot as plt\n",
        "import plotly.graph_objects as go\n",
        "from plotly.subplots import make_subplots\n",
        "from scipy.signal import savgol_filter\n",
        "from scipy.stats import mode\n",
        "from nba_api.stats.static import teams\n",
        "from nba_api.stats.endpoints import commonteamroster"
      ]
    },
    {
      "cell_type": "code",
      "source": [
        "def get_team_id(team_abbrev):\n",
        "  return teams.find_team_by_abbreviation(team_abbrev)['id']"
      ],
      "metadata": {
        "id": "wPvfphtlDVkL"
      },
      "execution_count": null,
      "outputs": []
    },
    {
      "cell_type": "code",
      "source": [
        "def get_team_player_num(team_abbrev, num):\n",
        "  team_roster = commonteamroster.CommonTeamRoster(get_team_id(team_abbrev), season=\"2023-24\")\n",
        "  team_roster_df = team_roster.get_data_frames()[0]\n",
        "  player = team_roster_df[team_roster_df[\"NUM\"] == str(num)]\n",
        "  if len(player) == 0:\n",
        "    return None\n",
        "  else:\n",
        "    return list(player[\"PLAYER\"].values)"
      ],
      "metadata": {
        "id": "aBCLnPzSDrG8"
      },
      "execution_count": null,
      "outputs": []
    },
    {
      "cell_type": "code",
      "source": [
        "def compute_center(x1, y1, x2, y2):\n",
        "  return (x1 + x2) / 2, (y1 + y2) / 2"
      ],
      "metadata": {
        "id": "tO6H0zORVDb6"
      },
      "execution_count": null,
      "outputs": []
    },
    {
      "cell_type": "code",
      "source": [
        "def compute_centers_for_tracks(x1_list, y1_list, x2_list, y2_list):\n",
        "  x = []\n",
        "  y = []\n",
        "  for i in range(len(x1_list)):\n",
        "    center_x, center_y = compute_center(x1_list[i], y1_list[i], x2_list[i], y2_list[i])\n",
        "    x.append(center_x)\n",
        "    y.append(center_y)\n",
        "  return x, y"
      ],
      "metadata": {
        "id": "G5BUef3hakqg"
      },
      "execution_count": null,
      "outputs": []
    },
    {
      "cell_type": "code",
      "source": [
        "def get_val_counts(list):\n",
        "  data = pd.Series(list).value_counts()\n",
        "  vals = []\n",
        "  counts = []\n",
        "  for index, value in data.items():\n",
        "    vals.append(index)\n",
        "    counts.append(value)\n",
        "\n",
        "  return pd.DataFrame({\"NUM\": vals, \"COUNT\": counts})"
      ],
      "metadata": {
        "id": "c7ISgp0hFcQZ"
      },
      "execution_count": null,
      "outputs": []
    },
    {
      "cell_type": "code",
      "source": [
        "#Use a Savitzky-Golay filter to smooth out trajectories\n",
        "def savitzky_golay(x, y, t, window_size=3, poly_order=2):\n",
        "  smooth_x = savgol_filter(x, window_size, poly_order)\n",
        "  smooth_y = savgol_filter(y, window_size, poly_order)\n",
        "\n",
        "\n",
        "  plt.plot(t, x, 'o', label='Original x')\n",
        "  plt.plot(t, y, 'o', label='Original y')\n",
        "  plt.plot(t, smooth_x, label='Smoothed x')\n",
        "  plt.plot(t, smooth_y, label='Smoothed y')\n",
        "  plt.legend()\n",
        "  plt.show()\n",
        "\n",
        "  return smooth_x, smooth_y\n"
      ],
      "metadata": {
        "id": "7-EXbw065hhj"
      },
      "execution_count": null,
      "outputs": []
    },
    {
      "cell_type": "code",
      "source": [
        "def get_track_frame_length(track_data):\n",
        "  return len(track_data[\"FRAME_NUM\"])"
      ],
      "metadata": {
        "id": "8K_xEDNnBK-Y"
      },
      "execution_count": null,
      "outputs": []
    },
    {
      "cell_type": "code",
      "source": [
        "def get_track_lengths(json_out):\n",
        "  track_lengths = {}\n",
        "  for i in json_out.keys():\n",
        "    if i != \"META\":\n",
        "      track_lengths[i] = get_track_frame_length(json_out[i])\n",
        "\n",
        "  return track_lengths"
      ],
      "metadata": {
        "id": "SP43lRLlMHxa"
      },
      "execution_count": null,
      "outputs": []
    },
    {
      "cell_type": "code",
      "source": [
        "def largest_n_elements(in_list, n):\n",
        "  sorted_list = sorted(in_list, reverse=True)\n",
        "  return sorted_list[:n]"
      ],
      "metadata": {
        "id": "9O8An9OFMoWA"
      },
      "execution_count": null,
      "outputs": []
    },
    {
      "cell_type": "code",
      "source": [
        "def largest_n_keys(dictionary, n):\n",
        "  sorted_items = sorted(dictionary.items(), key=lambda x: x[1], reverse=True)\n",
        "\n",
        "  largest_keys = [item[0] for item in sorted_items[:n]]\n",
        "\n",
        "  return largest_keys"
      ],
      "metadata": {
        "id": "0LNDcPv9NrF_"
      },
      "execution_count": null,
      "outputs": []
    },
    {
      "cell_type": "code",
      "source": [
        "def get_n_longest_tracks(json_out, n):\n",
        "  longest_tracks = largest_n_keys(get_track_lengths(json_out), n)\n",
        "\n",
        "  out = {}\n",
        "  for i in longest_tracks:\n",
        "    out[i] = json_out[str(i)]\n",
        "\n",
        "  return out"
      ],
      "metadata": {
        "id": "BJvEcezNMwSp"
      },
      "execution_count": null,
      "outputs": []
    },
    {
      "cell_type": "code",
      "source": [
        "def get_initial_frame(track):\n",
        "  return track[\"FRAME_NUM\"][0]"
      ],
      "metadata": {
        "id": "rSuIzlRe6aAJ"
      },
      "execution_count": null,
      "outputs": []
    },
    {
      "cell_type": "code",
      "source": [
        "def get_final_frame(track):\n",
        "  return track[\"FRAME_NUM\"][-1]"
      ],
      "metadata": {
        "id": "b9A_YlUl6fjV"
      },
      "execution_count": null,
      "outputs": []
    },
    {
      "cell_type": "code",
      "source": [
        "def get_frame_range(track):\n",
        "  return str(get_initial_frame(track)), str(get_final_frame(track))"
      ],
      "metadata": {
        "id": "FQKCQLH96z4v"
      },
      "execution_count": null,
      "outputs": []
    },
    {
      "cell_type": "code",
      "source": [
        "def get_all_initial_frames(json_out):\n",
        "  return [get_initial_frame(json_out[i]) for i in json_out.keys()]"
      ],
      "metadata": {
        "id": "8-QRr3Hs6i36"
      },
      "execution_count": null,
      "outputs": []
    },
    {
      "cell_type": "code",
      "source": [
        "def get_all_final_frames(json_out):\n",
        "  return [get_final_frame(json_out[i]) for i in json_out.keys()]"
      ],
      "metadata": {
        "id": "yget3qmR6otN"
      },
      "execution_count": null,
      "outputs": []
    },
    {
      "cell_type": "code",
      "source": [
        "def get_all_track_ranges(json_out):\n",
        "  range_dict = {}\n",
        "  for i in json_out.keys():\n",
        "    range_dict[i] = get_frame_range(json_out[i])\n",
        "\n",
        "  return range_dict"
      ],
      "metadata": {
        "id": "TZBZbs5z6vPi"
      },
      "execution_count": null,
      "outputs": []
    },
    {
      "cell_type": "code",
      "source": [
        "def get_all_track_info(json_out):\n",
        "  out = {}\n",
        "\n",
        "  out[\"TRACK_NUM\"] = [i for i in json_out.keys()]\n",
        "  out[\"i_FRAME\"] = [get_initial_frame(json_out[i]) for i in json_out.keys()]\n",
        "  out[\"f_FRAME\"] = [get_final_frame(json_out[i]) for i in json_out.keys()]\n",
        "  out[\"LENGTH\"] = [get_track_frame_length(json_out[i]) for i in json_out.keys()]\n",
        "\n",
        "  return pd.DataFrame(out)"
      ],
      "metadata": {
        "id": "wsNCX5z_8aKk"
      },
      "execution_count": null,
      "outputs": []
    },
    {
      "cell_type": "code",
      "source": [
        "def get_video(video_path):\n",
        "  video = cv2.VideoCapture(video_path)\n",
        "\n",
        "  if not video.isOpened():\n",
        "    raise IOError(\"Error: Could not open video file.\")\n",
        "\n",
        "  return video"
      ],
      "metadata": {
        "id": "mT7_o2H6YpcV"
      },
      "execution_count": null,
      "outputs": []
    },
    {
      "cell_type": "code",
      "source": [
        "def get_frame(video, frame_number):\n",
        "  video.set(cv2.CAP_PROP_POS_FRAMES, frame_number)\n",
        "\n",
        "  ret, frame = video.read()\n",
        "\n",
        "  if not ret:\n",
        "    raise IOError(\"Error: Could not read frame.\")\n",
        "\n",
        "  return frame"
      ],
      "metadata": {
        "id": "mh6RR5noYHrj"
      },
      "execution_count": null,
      "outputs": []
    },
    {
      "cell_type": "code",
      "source": [
        "def load_track_file(file_path):\n",
        "  with open(file_path, \"r\") as f:\n",
        "    json_data = json.load(f)\n",
        "\n",
        "  # Extract the title from the filename\n",
        "  filename = os.path.basename(file_path)\n",
        "  title = filename.split(\".\")[0].replace(\"OUT_\", \"\")\n",
        "\n",
        "  return json_data, title"
      ],
      "metadata": {
        "id": "8mMjKvWmZAmf"
      },
      "execution_count": null,
      "outputs": []
    },
    {
      "cell_type": "code",
      "source": [
        "def animate_dot_plotly(x_coordinates, y_coordinates, time_coordinates):\n",
        "    # Create subplot\n",
        "    fig = make_subplots(rows=1, cols=1, subplot_titles=['Animated Dot Plot'])\n",
        "\n",
        "    # Scatter plot with initial point\n",
        "    scatter = go.Scatter(x=[x_coordinates[0]], y=[y_coordinates[0]], mode='markers', marker=dict(color='blue', size=10))\n",
        "    fig.add_trace(scatter)\n",
        "\n",
        "    # Set layout\n",
        "    fig.update_layout(\n",
        "        xaxis=dict(range=[min(x_coordinates) - 1, max(x_coordinates) + 1]),\n",
        "        yaxis=dict(range=[min(y_coordinates) - 1, max(y_coordinates) + 1]),\n",
        "        showlegend=False\n",
        "    )\n",
        "\n",
        "    # Update function for animation\n",
        "    def update(frame):\n",
        "        scatter.x = [x_coordinates[frame]]\n",
        "        scatter.y = [y_coordinates[frame]]\n",
        "\n",
        "    # Create animation frames\n",
        "    frames = [go.Frame(data=[go.Scatter(x=x_coordinates[:frame + 1], y=y_coordinates[:frame + 1], mode='markers',\n",
        "                                         marker=dict(color='blue', size=10))],\n",
        "                       traces=[0],\n",
        "                       name=f'Frame {frame}')\n",
        "              for frame in range(1, len(time_coordinates))]\n",
        "\n",
        "    fig.frames = frames\n",
        "\n",
        "    # Add animation settings\n",
        "    animation_settings = dict(frame=dict(duration=1000, redraw=True), fromcurrent=True)\n",
        "    fig.update_layout(updatemenus=[dict(type='buttons', showactive=False, buttons=[dict(label='Play',\n",
        "                                            method='animate', args=[None, animation_settings])])])\n",
        "\n",
        "    # Show the plot\n",
        "    fig.show()\n"
      ],
      "metadata": {
        "id": "z-3RCBakZ2K4"
      },
      "execution_count": null,
      "outputs": []
    },
    {
      "cell_type": "code",
      "source": [
        "data, title = load_track_file(\"test_out (3).json\")"
      ],
      "metadata": {
        "id": "_aWqsWEu63RA"
      },
      "execution_count": null,
      "outputs": []
    },
    {
      "cell_type": "code",
      "source": [
        "track_info = get_all_track_info(data)"
      ],
      "metadata": {
        "id": "H6UnK_Fq76T7"
      },
      "execution_count": null,
      "outputs": []
    },
    {
      "cell_type": "code",
      "source": [
        "track_info"
      ],
      "metadata": {
        "colab": {
          "base_uri": "https://localhost:8080/",
          "height": 687
        },
        "id": "exzKhqdx97BG",
        "outputId": "d5b7b9d9-cc13-4094-b1fc-9b431b5ccceb"
      },
      "execution_count": null,
      "outputs": [
        {
          "output_type": "execute_result",
          "data": {
            "text/plain": [
              "    TRACK_NUM  i_FRAME  f_FRAME  LENGTH\n",
              "0           1        3      137     120\n",
              "1           2        3       74      39\n",
              "2           3        3       81      64\n",
              "3           4        3       19      15\n",
              "4           6        3      535     507\n",
              "..        ...      ...      ...     ...\n",
              "96        331      622      624       3\n",
              "97        333      631      651      21\n",
              "98        334      636      639       4\n",
              "99        338      653      660       8\n",
              "100       340      674      677       4\n",
              "\n",
              "[101 rows x 4 columns]"
            ],
            "text/html": [
              "\n",
              "  <div id=\"df-4277f5b3-cfa1-4c89-9267-92eb51d8e069\" class=\"colab-df-container\">\n",
              "    <div>\n",
              "<style scoped>\n",
              "    .dataframe tbody tr th:only-of-type {\n",
              "        vertical-align: middle;\n",
              "    }\n",
              "\n",
              "    .dataframe tbody tr th {\n",
              "        vertical-align: top;\n",
              "    }\n",
              "\n",
              "    .dataframe thead th {\n",
              "        text-align: right;\n",
              "    }\n",
              "</style>\n",
              "<table border=\"1\" class=\"dataframe\">\n",
              "  <thead>\n",
              "    <tr style=\"text-align: right;\">\n",
              "      <th></th>\n",
              "      <th>TRACK_NUM</th>\n",
              "      <th>i_FRAME</th>\n",
              "      <th>f_FRAME</th>\n",
              "      <th>LENGTH</th>\n",
              "    </tr>\n",
              "  </thead>\n",
              "  <tbody>\n",
              "    <tr>\n",
              "      <th>0</th>\n",
              "      <td>1</td>\n",
              "      <td>3</td>\n",
              "      <td>137</td>\n",
              "      <td>120</td>\n",
              "    </tr>\n",
              "    <tr>\n",
              "      <th>1</th>\n",
              "      <td>2</td>\n",
              "      <td>3</td>\n",
              "      <td>74</td>\n",
              "      <td>39</td>\n",
              "    </tr>\n",
              "    <tr>\n",
              "      <th>2</th>\n",
              "      <td>3</td>\n",
              "      <td>3</td>\n",
              "      <td>81</td>\n",
              "      <td>64</td>\n",
              "    </tr>\n",
              "    <tr>\n",
              "      <th>3</th>\n",
              "      <td>4</td>\n",
              "      <td>3</td>\n",
              "      <td>19</td>\n",
              "      <td>15</td>\n",
              "    </tr>\n",
              "    <tr>\n",
              "      <th>4</th>\n",
              "      <td>6</td>\n",
              "      <td>3</td>\n",
              "      <td>535</td>\n",
              "      <td>507</td>\n",
              "    </tr>\n",
              "    <tr>\n",
              "      <th>...</th>\n",
              "      <td>...</td>\n",
              "      <td>...</td>\n",
              "      <td>...</td>\n",
              "      <td>...</td>\n",
              "    </tr>\n",
              "    <tr>\n",
              "      <th>96</th>\n",
              "      <td>331</td>\n",
              "      <td>622</td>\n",
              "      <td>624</td>\n",
              "      <td>3</td>\n",
              "    </tr>\n",
              "    <tr>\n",
              "      <th>97</th>\n",
              "      <td>333</td>\n",
              "      <td>631</td>\n",
              "      <td>651</td>\n",
              "      <td>21</td>\n",
              "    </tr>\n",
              "    <tr>\n",
              "      <th>98</th>\n",
              "      <td>334</td>\n",
              "      <td>636</td>\n",
              "      <td>639</td>\n",
              "      <td>4</td>\n",
              "    </tr>\n",
              "    <tr>\n",
              "      <th>99</th>\n",
              "      <td>338</td>\n",
              "      <td>653</td>\n",
              "      <td>660</td>\n",
              "      <td>8</td>\n",
              "    </tr>\n",
              "    <tr>\n",
              "      <th>100</th>\n",
              "      <td>340</td>\n",
              "      <td>674</td>\n",
              "      <td>677</td>\n",
              "      <td>4</td>\n",
              "    </tr>\n",
              "  </tbody>\n",
              "</table>\n",
              "<p>101 rows × 4 columns</p>\n",
              "</div>\n",
              "    <div class=\"colab-df-buttons\">\n",
              "\n",
              "  <div class=\"colab-df-container\">\n",
              "    <button class=\"colab-df-convert\" onclick=\"convertToInteractive('df-4277f5b3-cfa1-4c89-9267-92eb51d8e069')\"\n",
              "            title=\"Convert this dataframe to an interactive table.\"\n",
              "            style=\"display:none;\">\n",
              "\n",
              "  <svg xmlns=\"http://www.w3.org/2000/svg\" height=\"24px\" viewBox=\"0 -960 960 960\">\n",
              "    <path d=\"M120-120v-720h720v720H120Zm60-500h600v-160H180v160Zm220 220h160v-160H400v160Zm0 220h160v-160H400v160ZM180-400h160v-160H180v160Zm440 0h160v-160H620v160ZM180-180h160v-160H180v160Zm440 0h160v-160H620v160Z\"/>\n",
              "  </svg>\n",
              "    </button>\n",
              "\n",
              "  <style>\n",
              "    .colab-df-container {\n",
              "      display:flex;\n",
              "      gap: 12px;\n",
              "    }\n",
              "\n",
              "    .colab-df-convert {\n",
              "      background-color: #E8F0FE;\n",
              "      border: none;\n",
              "      border-radius: 50%;\n",
              "      cursor: pointer;\n",
              "      display: none;\n",
              "      fill: #1967D2;\n",
              "      height: 32px;\n",
              "      padding: 0 0 0 0;\n",
              "      width: 32px;\n",
              "    }\n",
              "\n",
              "    .colab-df-convert:hover {\n",
              "      background-color: #E2EBFA;\n",
              "      box-shadow: 0px 1px 2px rgba(60, 64, 67, 0.3), 0px 1px 3px 1px rgba(60, 64, 67, 0.15);\n",
              "      fill: #174EA6;\n",
              "    }\n",
              "\n",
              "    .colab-df-buttons div {\n",
              "      margin-bottom: 4px;\n",
              "    }\n",
              "\n",
              "    [theme=dark] .colab-df-convert {\n",
              "      background-color: #3B4455;\n",
              "      fill: #D2E3FC;\n",
              "    }\n",
              "\n",
              "    [theme=dark] .colab-df-convert:hover {\n",
              "      background-color: #434B5C;\n",
              "      box-shadow: 0px 1px 3px 1px rgba(0, 0, 0, 0.15);\n",
              "      filter: drop-shadow(0px 1px 2px rgba(0, 0, 0, 0.3));\n",
              "      fill: #FFFFFF;\n",
              "    }\n",
              "  </style>\n",
              "\n",
              "    <script>\n",
              "      const buttonEl =\n",
              "        document.querySelector('#df-4277f5b3-cfa1-4c89-9267-92eb51d8e069 button.colab-df-convert');\n",
              "      buttonEl.style.display =\n",
              "        google.colab.kernel.accessAllowed ? 'block' : 'none';\n",
              "\n",
              "      async function convertToInteractive(key) {\n",
              "        const element = document.querySelector('#df-4277f5b3-cfa1-4c89-9267-92eb51d8e069');\n",
              "        const dataTable =\n",
              "          await google.colab.kernel.invokeFunction('convertToInteractive',\n",
              "                                                    [key], {});\n",
              "        if (!dataTable) return;\n",
              "\n",
              "        const docLinkHtml = 'Like what you see? Visit the ' +\n",
              "          '<a target=\"_blank\" href=https://colab.research.google.com/notebooks/data_table.ipynb>data table notebook</a>'\n",
              "          + ' to learn more about interactive tables.';\n",
              "        element.innerHTML = '';\n",
              "        dataTable['output_type'] = 'display_data';\n",
              "        await google.colab.output.renderOutput(dataTable, element);\n",
              "        const docLink = document.createElement('div');\n",
              "        docLink.innerHTML = docLinkHtml;\n",
              "        element.appendChild(docLink);\n",
              "      }\n",
              "    </script>\n",
              "  </div>\n",
              "\n",
              "\n",
              "<div id=\"df-23c8bdef-fcdd-467e-b469-fc9b1cc74038\">\n",
              "  <button class=\"colab-df-quickchart\" onclick=\"quickchart('df-23c8bdef-fcdd-467e-b469-fc9b1cc74038')\"\n",
              "            title=\"Suggest charts\"\n",
              "            style=\"display:none;\">\n",
              "\n",
              "<svg xmlns=\"http://www.w3.org/2000/svg\" height=\"24px\"viewBox=\"0 0 24 24\"\n",
              "     width=\"24px\">\n",
              "    <g>\n",
              "        <path d=\"M19 3H5c-1.1 0-2 .9-2 2v14c0 1.1.9 2 2 2h14c1.1 0 2-.9 2-2V5c0-1.1-.9-2-2-2zM9 17H7v-7h2v7zm4 0h-2V7h2v10zm4 0h-2v-4h2v4z\"/>\n",
              "    </g>\n",
              "</svg>\n",
              "  </button>\n",
              "\n",
              "<style>\n",
              "  .colab-df-quickchart {\n",
              "      --bg-color: #E8F0FE;\n",
              "      --fill-color: #1967D2;\n",
              "      --hover-bg-color: #E2EBFA;\n",
              "      --hover-fill-color: #174EA6;\n",
              "      --disabled-fill-color: #AAA;\n",
              "      --disabled-bg-color: #DDD;\n",
              "  }\n",
              "\n",
              "  [theme=dark] .colab-df-quickchart {\n",
              "      --bg-color: #3B4455;\n",
              "      --fill-color: #D2E3FC;\n",
              "      --hover-bg-color: #434B5C;\n",
              "      --hover-fill-color: #FFFFFF;\n",
              "      --disabled-bg-color: #3B4455;\n",
              "      --disabled-fill-color: #666;\n",
              "  }\n",
              "\n",
              "  .colab-df-quickchart {\n",
              "    background-color: var(--bg-color);\n",
              "    border: none;\n",
              "    border-radius: 50%;\n",
              "    cursor: pointer;\n",
              "    display: none;\n",
              "    fill: var(--fill-color);\n",
              "    height: 32px;\n",
              "    padding: 0;\n",
              "    width: 32px;\n",
              "  }\n",
              "\n",
              "  .colab-df-quickchart:hover {\n",
              "    background-color: var(--hover-bg-color);\n",
              "    box-shadow: 0 1px 2px rgba(60, 64, 67, 0.3), 0 1px 3px 1px rgba(60, 64, 67, 0.15);\n",
              "    fill: var(--button-hover-fill-color);\n",
              "  }\n",
              "\n",
              "  .colab-df-quickchart-complete:disabled,\n",
              "  .colab-df-quickchart-complete:disabled:hover {\n",
              "    background-color: var(--disabled-bg-color);\n",
              "    fill: var(--disabled-fill-color);\n",
              "    box-shadow: none;\n",
              "  }\n",
              "\n",
              "  .colab-df-spinner {\n",
              "    border: 2px solid var(--fill-color);\n",
              "    border-color: transparent;\n",
              "    border-bottom-color: var(--fill-color);\n",
              "    animation:\n",
              "      spin 1s steps(1) infinite;\n",
              "  }\n",
              "\n",
              "  @keyframes spin {\n",
              "    0% {\n",
              "      border-color: transparent;\n",
              "      border-bottom-color: var(--fill-color);\n",
              "      border-left-color: var(--fill-color);\n",
              "    }\n",
              "    20% {\n",
              "      border-color: transparent;\n",
              "      border-left-color: var(--fill-color);\n",
              "      border-top-color: var(--fill-color);\n",
              "    }\n",
              "    30% {\n",
              "      border-color: transparent;\n",
              "      border-left-color: var(--fill-color);\n",
              "      border-top-color: var(--fill-color);\n",
              "      border-right-color: var(--fill-color);\n",
              "    }\n",
              "    40% {\n",
              "      border-color: transparent;\n",
              "      border-right-color: var(--fill-color);\n",
              "      border-top-color: var(--fill-color);\n",
              "    }\n",
              "    60% {\n",
              "      border-color: transparent;\n",
              "      border-right-color: var(--fill-color);\n",
              "    }\n",
              "    80% {\n",
              "      border-color: transparent;\n",
              "      border-right-color: var(--fill-color);\n",
              "      border-bottom-color: var(--fill-color);\n",
              "    }\n",
              "    90% {\n",
              "      border-color: transparent;\n",
              "      border-bottom-color: var(--fill-color);\n",
              "    }\n",
              "  }\n",
              "</style>\n",
              "\n",
              "  <script>\n",
              "    async function quickchart(key) {\n",
              "      const quickchartButtonEl =\n",
              "        document.querySelector('#' + key + ' button');\n",
              "      quickchartButtonEl.disabled = true;  // To prevent multiple clicks.\n",
              "      quickchartButtonEl.classList.add('colab-df-spinner');\n",
              "      try {\n",
              "        const charts = await google.colab.kernel.invokeFunction(\n",
              "            'suggestCharts', [key], {});\n",
              "      } catch (error) {\n",
              "        console.error('Error during call to suggestCharts:', error);\n",
              "      }\n",
              "      quickchartButtonEl.classList.remove('colab-df-spinner');\n",
              "      quickchartButtonEl.classList.add('colab-df-quickchart-complete');\n",
              "    }\n",
              "    (() => {\n",
              "      let quickchartButtonEl =\n",
              "        document.querySelector('#df-23c8bdef-fcdd-467e-b469-fc9b1cc74038 button');\n",
              "      quickchartButtonEl.style.display =\n",
              "        google.colab.kernel.accessAllowed ? 'block' : 'none';\n",
              "    })();\n",
              "  </script>\n",
              "</div>\n",
              "\n",
              "  <div id=\"id_7e79ea44-0c4a-4a5d-8fda-75f64f72336d\">\n",
              "    <style>\n",
              "      .colab-df-generate {\n",
              "        background-color: #E8F0FE;\n",
              "        border: none;\n",
              "        border-radius: 50%;\n",
              "        cursor: pointer;\n",
              "        display: none;\n",
              "        fill: #1967D2;\n",
              "        height: 32px;\n",
              "        padding: 0 0 0 0;\n",
              "        width: 32px;\n",
              "      }\n",
              "\n",
              "      .colab-df-generate:hover {\n",
              "        background-color: #E2EBFA;\n",
              "        box-shadow: 0px 1px 2px rgba(60, 64, 67, 0.3), 0px 1px 3px 1px rgba(60, 64, 67, 0.15);\n",
              "        fill: #174EA6;\n",
              "      }\n",
              "\n",
              "      [theme=dark] .colab-df-generate {\n",
              "        background-color: #3B4455;\n",
              "        fill: #D2E3FC;\n",
              "      }\n",
              "\n",
              "      [theme=dark] .colab-df-generate:hover {\n",
              "        background-color: #434B5C;\n",
              "        box-shadow: 0px 1px 3px 1px rgba(0, 0, 0, 0.15);\n",
              "        filter: drop-shadow(0px 1px 2px rgba(0, 0, 0, 0.3));\n",
              "        fill: #FFFFFF;\n",
              "      }\n",
              "    </style>\n",
              "    <button class=\"colab-df-generate\" onclick=\"generateWithVariable('track_info')\"\n",
              "            title=\"Generate code using this dataframe.\"\n",
              "            style=\"display:none;\">\n",
              "\n",
              "  <svg xmlns=\"http://www.w3.org/2000/svg\" height=\"24px\"viewBox=\"0 0 24 24\"\n",
              "       width=\"24px\">\n",
              "    <path d=\"M7,19H8.4L18.45,9,17,7.55,7,17.6ZM5,21V16.75L18.45,3.32a2,2,0,0,1,2.83,0l1.4,1.43a1.91,1.91,0,0,1,.58,1.4,1.91,1.91,0,0,1-.58,1.4L9.25,21ZM18.45,9,17,7.55Zm-12,3A5.31,5.31,0,0,0,4.9,8.1,5.31,5.31,0,0,0,1,6.5,5.31,5.31,0,0,0,4.9,4.9,5.31,5.31,0,0,0,6.5,1,5.31,5.31,0,0,0,8.1,4.9,5.31,5.31,0,0,0,12,6.5,5.46,5.46,0,0,0,6.5,12Z\"/>\n",
              "  </svg>\n",
              "    </button>\n",
              "    <script>\n",
              "      (() => {\n",
              "      const buttonEl =\n",
              "        document.querySelector('#id_7e79ea44-0c4a-4a5d-8fda-75f64f72336d button.colab-df-generate');\n",
              "      buttonEl.style.display =\n",
              "        google.colab.kernel.accessAllowed ? 'block' : 'none';\n",
              "\n",
              "      buttonEl.onclick = () => {\n",
              "        google.colab.notebook.generateWithVariable('track_info');\n",
              "      }\n",
              "      })();\n",
              "    </script>\n",
              "  </div>\n",
              "\n",
              "    </div>\n",
              "  </div>\n"
            ]
          },
          "metadata": {},
          "execution_count": 37
        }
      ]
    },
    {
      "cell_type": "code",
      "source": [],
      "metadata": {
        "id": "R4Im0xc-971T"
      },
      "execution_count": null,
      "outputs": []
    }
  ]
}