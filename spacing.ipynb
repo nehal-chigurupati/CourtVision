{
 "cells": [
  {
   "cell_type": "code",
   "execution_count": 1,
   "id": "8f8724f9-e210-4562-859c-dba2ba833848",
   "metadata": {},
   "outputs": [],
   "source": [
    "import pandas as pd\n",
    "import numpy as np"
   ]
  },
  {
   "cell_type": "code",
   "execution_count": 2,
   "id": "01473e2e-d2b5-45ef-86e0-39bca8da4cf3",
   "metadata": {},
   "outputs": [],
   "source": [
    "lineups = pd.read_csv(\"datasets/lineups/CLE.csv\")"
   ]
  },
  {
   "cell_type": "code",
   "execution_count": 3,
   "id": "7158da45-f961-4733-a4c7-017c5e48719e",
   "metadata": {
    "scrolled": true
   },
   "outputs": [
    {
     "name": "stdout",
     "output_type": "stream",
     "text": [
      "        PLAYER_ZERO     PLAYER_ONE    PLAYER_TWO    PLAYER_THREE  \\\n",
      "0  Donovan Mitchell  Jarrett Allen     Max Strus  Darius Garland   \n",
      "1  Donovan Mitchell  Jarrett Allen     Max Strus    Caris LeVert   \n",
      "2  Donovan Mitchell      Max Strus  Caris LeVert   Georges Niang   \n",
      "\n",
      "     PLAYER_FOUR  \n",
      "0    Evan Mobley  \n",
      "1    Evan Mobley  \n",
      "2  Jarrett Allen  \n"
     ]
    }
   ],
   "source": [
    "print(lineups)"
   ]
  },
  {
   "cell_type": "code",
   "execution_count": 4,
   "id": "79dade6c-6dad-4d91-b0ea-3bd97e011d3f",
   "metadata": {},
   "outputs": [],
   "source": [
    "#Lineup 1 load data\n",
    "file = open(\"areas/lineup_one/lineup_one_clip_one_areas.txt\", \"r\")\n",
    "poss_one = file.read()\n",
    "file.close()\n",
    "\n",
    "file = open(\"areas/lineup_one/lineup_one_clip_two_areas.txt\", \"r\")\n",
    "poss_two = file.read()\n",
    "file.close()\n",
    "\n",
    "file = open(\"areas/lineup_one/lineup_one_clip_three_areas.txt\", \"r\")\n",
    "poss_three = file.read()\n",
    "file.close()\n",
    "\n",
    "file = open(\"areas/lineup_one/lineup_one_clip_four_areas.txt\", \"r\")\n",
    "poss_four = file.read()\n",
    "file.close()"
   ]
  },
  {
   "cell_type": "code",
   "execution_count": 5,
   "id": "eac80eb4-b09e-4bfd-8c65-b63980d605b4",
   "metadata": {},
   "outputs": [],
   "source": [
    "#Prepare data\n",
    "poss_one = poss_one.split(\"\\n\")[1:-1]\n",
    "poss_one = [float(i) for i in poss_one]\n",
    "\n",
    "poss_two = poss_two.split(\"\\n\")[1:-1]\n",
    "poss_two = [float(i) for i in poss_two]\n",
    "\n",
    "poss_three = poss_three.split(\"\\n\")[1:-1]\n",
    "poss_three = [float(i) for i in poss_three]\n",
    "\n",
    "poss_four = poss_four.split(\"\\n\")[1:-1]\n",
    "poss_four = [float(i) for i in poss_four]"
   ]
  },
  {
   "cell_type": "code",
   "execution_count": 6,
   "id": "d1db5de3-c115-421d-9e39-8e64c2b17d97",
   "metadata": {},
   "outputs": [],
   "source": [
    "#Use trapezoidal area under curve for lineup 1 data\n",
    "lineup_one_poss_one_area = np.trapz(poss_one, dx=1)\n",
    "lineup_one_poss_two_area = np.trapz(poss_two, dx=1)\n",
    "lineup_one_poss_three_area = np.trapz(poss_three, dx=1)\n",
    "lineup_one_poss_four_area = np.trapz(poss_four, dx=1)"
   ]
  },
  {
   "cell_type": "code",
   "execution_count": 7,
   "id": "b029598b-c971-45d7-a2bd-b41fc26c1364",
   "metadata": {},
   "outputs": [],
   "source": [
    "#Get mean of areas\n",
    "lineup_one_mean_area = np.mean([lineup_one_poss_one_area, lineup_one_poss_two_area, lineup_one_poss_three_area, lineup_one_poss_four_area])"
   ]
  },
  {
   "cell_type": "code",
   "execution_count": 8,
   "id": "4418dcc5-d833-4de5-ba4e-c8ef9f3a4c2b",
   "metadata": {},
   "outputs": [
    {
     "name": "stdout",
     "output_type": "stream",
     "text": [
      "633805.4026409306\n"
     ]
    }
   ],
   "source": [
    "print(lineup_one_mean_area)"
   ]
  },
  {
   "cell_type": "code",
   "execution_count": 9,
   "id": "57002d25-a675-4f68-b6e2-d50a29496de4",
   "metadata": {},
   "outputs": [],
   "source": [
    "#Lineup 2 load data\n",
    "file = open(\"areas/lineup_two/lineup_two_clip_one_areas.txt\", \"r\")\n",
    "poss_one = file.read()\n",
    "file.close()\n",
    "\n",
    "file = open(\"areas/lineup_two/lineup_two_clip_two_areas.txt\", \"r\")\n",
    "poss_two = file.read()\n",
    "file.close()\n",
    "\n",
    "file = open(\"areas/lineup_two/lineup_two_clip_three_areas.txt\", \"r\")\n",
    "poss_three = file.read()\n",
    "file.close()\n",
    "\n",
    "file = open(\"areas/lineup_two/lineup_two_clip_four_areas.txt\", \"r\")\n",
    "poss_four = file.read()\n",
    "file.close()"
   ]
  },
  {
   "cell_type": "code",
   "execution_count": 10,
   "id": "03454ea5-a373-4c6a-b233-65528d52dcbf",
   "metadata": {},
   "outputs": [],
   "source": [
    "#Prepare data\n",
    "poss_one = poss_one.split(\"\\n\")[1:-1]\n",
    "poss_one = [float(i) for i in poss_one]\n",
    "\n",
    "poss_two = poss_two.split(\"\\n\")[1:-1]\n",
    "poss_two = [float(i) for i in poss_two]\n",
    "\n",
    "poss_three = poss_three.split(\"\\n\")[1:-1]\n",
    "poss_three = [float(i) for i in poss_three]\n",
    "\n",
    "poss_four = poss_four.split(\"\\n\")[1:-1]\n",
    "poss_four = [float(i) for i in poss_four]"
   ]
  },
  {
   "cell_type": "code",
   "execution_count": 11,
   "id": "0b33b4fe-e91a-4985-a158-97e32b68764d",
   "metadata": {},
   "outputs": [],
   "source": [
    "#Use trapezoidal area under curve for lineup 2 data\n",
    "lineup_two_poss_one_area = np.trapz(poss_one, dx=1)\n",
    "lineup_two_poss_two_area = np.trapz(poss_two, dx=1)\n",
    "lineup_two_poss_three_area = np.trapz(poss_three, dx=1)\n",
    "lineup_two_poss_four_area = np.trapz(poss_four, dx=1)"
   ]
  },
  {
   "cell_type": "code",
   "execution_count": 12,
   "id": "6bbf4cb2-9e66-4869-9ac5-94ae5e2c2081",
   "metadata": {},
   "outputs": [],
   "source": [
    "lineup_two_mean_area = np.mean([lineup_two_poss_one_area, lineup_two_poss_two_area, lineup_two_poss_three_area, lineup_two_poss_four_area])"
   ]
  },
  {
   "cell_type": "code",
   "execution_count": 13,
   "id": "cad94a32-6680-40a5-8162-56e48224bb2b",
   "metadata": {},
   "outputs": [],
   "source": [
    "#Lineup 3 load data\n",
    "file = open(\"areas/lineup_three/lineup_three_clip_one_areas.txt\", \"r\")\n",
    "poss_one = file.read()\n",
    "file.close()\n",
    "\n",
    "file = open(\"areas/lineup_three/lineup_three_clip_two_areas.txt\", \"r\")\n",
    "poss_two = file.read()\n",
    "file.close()\n",
    "\n",
    "file = open(\"areas/lineup_three/lineup_three_clip_three_areas.txt\", \"r\")\n",
    "poss_three = file.read()\n",
    "file.close()\n",
    "\n",
    "file = open(\"areas/lineup_three/lineup_three_clip_four_areas.txt\", \"r\")\n",
    "poss_four = file.read()\n",
    "file.close()"
   ]
  },
  {
   "cell_type": "code",
   "execution_count": 14,
   "id": "fb5b088c-3e94-48df-af37-85c28207172f",
   "metadata": {},
   "outputs": [],
   "source": [
    "#Prepare data\n",
    "poss_one = poss_one.split(\"\\n\")[1:-1]\n",
    "poss_one = [float(i) for i in poss_one]\n",
    "\n",
    "poss_two = poss_two.split(\"\\n\")[1:-1]\n",
    "poss_two = [float(i) for i in poss_two]\n",
    "\n",
    "poss_three = poss_three.split(\"\\n\")[1:-1]\n",
    "poss_three = [float(i) for i in poss_three]\n",
    "\n",
    "poss_four = poss_four.split(\"\\n\")[1:-1]\n",
    "poss_four = [float(i) for i in poss_four]"
   ]
  },
  {
   "cell_type": "code",
   "execution_count": 15,
   "id": "f7d5ea90-fee7-49ef-a753-97f80cf27159",
   "metadata": {},
   "outputs": [],
   "source": [
    "#Use trapezoidal area under curve for lineup 3 data\n",
    "lineup_three_poss_one_area = np.trapz(poss_one, dx=1)\n",
    "lineup_three_poss_two_area = np.trapz(poss_two, dx=1)\n",
    "lineup_three_poss_three_area = np.trapz(poss_three, dx=1)\n",
    "lineup_three_poss_four_area = np.trapz(poss_four, dx=1)"
   ]
  },
  {
   "cell_type": "code",
   "execution_count": 16,
   "id": "39ce40d4-4f9d-4c68-9724-64fc8ed71aa7",
   "metadata": {},
   "outputs": [],
   "source": [
    "lineup_three_mean_area = np.mean([lineup_three_poss_one_area, lineup_three_poss_two_area, lineup_three_poss_three_area, lineup_three_poss_four_area])"
   ]
  },
  {
   "cell_type": "code",
   "execution_count": 17,
   "id": "3ebeb848-568a-4f00-80db-f8ff5e085bce",
   "metadata": {},
   "outputs": [
    {
     "name": "stdout",
     "output_type": "stream",
     "text": [
      "Lineup one mean area: \n",
      "633805.4026409306\n",
      "Lineup two mean area: \n",
      "183736.0350526413\n",
      "Lineup three mean area: \n",
      "381015.83000218845\n"
     ]
    }
   ],
   "source": [
    "print(\"Lineup one mean area: \")\n",
    "print(lineup_one_mean_area)\n",
    "print(\"Lineup two mean area: \")\n",
    "print(lineup_two_mean_area)\n",
    "print(\"Lineup three mean area: \")\n",
    "print(lineup_three_mean_area)"
   ]
  },
  {
   "cell_type": "code",
   "execution_count": 20,
   "id": "2f5a3808-ce38-45c8-80c9-d65b40056358",
   "metadata": {},
   "outputs": [],
   "source": [
    "#Write to CSV\n",
    "out_dict = {\"PLAYER_ZERO\": lineups[\"PLAYER_ZERO\"], \n",
    "            \"PLAYER_ONE\": lineups[\"PLAYER_ONE\"], \n",
    "            \"PLAYER_TWO\": lineups[\"PLAYER_TWO\"], \n",
    "            \"PLAYER_THREE\": lineups[\"PLAYER_THREE\"],\n",
    "            \"PLAYER_FOUR\": lineups[\"PLAYER_FOUR\"],\n",
    "            \"MEAN_AREA\": [lineup_one_mean_area, lineup_two_mean_area, lineup_three_mean_area],\n",
    "            \"POSS_ONE_AREA\": [lineup_one_poss_one_area, lineup_two_poss_one_area, lineup_three_poss_one_area],\n",
    "            \"POSS_TWO_AREA\": [lineup_one_poss_two_area, lineup_two_poss_two_area, lineup_three_poss_two_area],\n",
    "            \"POSS_THREE_AREA\": [lineup_one_poss_three_area, lineup_two_poss_three_area, lineup_three_poss_three_area],\n",
    "            \"POSS_FOUR_AREA\": [lineup_one_poss_four_area, lineup_two_poss_four_area, lineup_three_poss_four_area]\n",
    "           }\n",
    "df = pd.DataFrame(out_dict)\n",
    "df.to_csv(\"areas/total/spacing.csv\")\n",
    "            "
   ]
  },
  {
   "cell_type": "code",
   "execution_count": null,
   "id": "f25e1b1e-9291-4e28-b61b-c1dd3387200d",
   "metadata": {},
   "outputs": [],
   "source": []
  }
 ],
 "metadata": {
  "kernelspec": {
   "display_name": "Python 3 (ipykernel)",
   "language": "python",
   "name": "python3"
  },
  "language_info": {
   "codemirror_mode": {
    "name": "ipython",
    "version": 3
   },
   "file_extension": ".py",
   "mimetype": "text/x-python",
   "name": "python",
   "nbconvert_exporter": "python",
   "pygments_lexer": "ipython3",
   "version": "3.11.4"
  }
 },
 "nbformat": 4,
 "nbformat_minor": 5
}
